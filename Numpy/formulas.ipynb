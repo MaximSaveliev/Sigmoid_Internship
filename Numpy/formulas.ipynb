{
 "cells": [
  {
   "cell_type": "markdown",
   "metadata": {},
   "source": [
    "#### Import necessary libraries"
   ]
  },
  {
   "cell_type": "code",
   "execution_count": 1,
   "metadata": {},
   "outputs": [],
   "source": [
    "import pandas as pd\n",
    "import numpy as np"
   ]
  },
  {
   "cell_type": "markdown",
   "metadata": {},
   "source": [
    "#### Formula Nr. 1: Normal Distribution"
   ]
  },
  {
   "cell_type": "code",
   "execution_count": 2,
   "metadata": {},
   "outputs": [
    {
     "name": "stdout",
     "output_type": "stream",
     "text": [
      "Probability of x = 2.0 in the normal distribution with μ = 3.6 and σ = 1.8973665961010275: 0.147348\n"
     ]
    }
   ],
   "source": [
    "def normal_distribution(x, mu, sigma):\n",
    "    coefficient = 1 / (sigma * np.sqrt(2 * np.pi))\n",
    "    exponent = -0.5 * ((x - mu) / sigma) ** 2\n",
    "    return coefficient * np.exp(exponent)\n",
    "\n",
    "# Create a Pandas Series\n",
    "data = pd.Series([1.2, 2.4, 3.6, 4.8, 6.0])\n",
    "\n",
    "x = 2.0  # The value I want to calculate the probability for\n",
    "mu = data.mean()  # Mean of the series\n",
    "sigma = data.std()  # Standard deviation of the series\n",
    "\n",
    "probability = normal_distribution(x, mu, sigma)\n",
    "print(f'Probability of x = {x} in the normal distribution with μ = {mu} and σ = {sigma}: {probability:.6f}')\n"
   ]
  },
  {
   "cell_type": "markdown",
   "metadata": {},
   "source": [
    "#### Formula Nr. 2: Sigmoid Function"
   ]
  },
  {
   "cell_type": "code",
   "execution_count": 3,
   "metadata": {},
   "outputs": [
    {
     "name": "stdout",
     "output_type": "stream",
     "text": [
      "Sigmoid result for x = 2.0: 0.880797\n"
     ]
    }
   ],
   "source": [
    "def sigmoid(x):\n",
    "    return 1 / (1 + np.exp(-x))\n",
    "\n",
    "result = sigmoid(x)\n",
    "print(f'Sigmoid result for x = {x}: {result:.6f}')"
   ]
  },
  {
   "cell_type": "markdown",
   "metadata": {},
   "source": [
    "#### Formula Nr. 3: Weights update in Logistic Regression"
   ]
  },
  {
   "cell_type": "code",
   "execution_count": 4,
   "metadata": {},
   "outputs": [
    {
     "name": "stdout",
     "output_type": "stream",
     "text": [
      "Updated weights: [0.50067385 0.70081446 0.10095507]\n"
     ]
    }
   ],
   "source": [
    "def logistic_regression_weight_update(w, X, y, y_hat, learning_rate=0.0005):\n",
    "    n = len(X)  # Number of samples\n",
    "\n",
    "    for j in range(len(w)):\n",
    "        gradient = 0.0\n",
    "        for i in range(n):\n",
    "            gradient += (y_hat[i] - y[i]) * X[i][j]\n",
    "        gradient /= n\n",
    "\n",
    "        w[j] = w[j] - learning_rate * gradient\n",
    "\n",
    "    return w\n",
    "\n",
    "# Create some sample data\n",
    "w = np.array([0.5, 0.7, 0.1])\n",
    "X = np.array([[1, 2, 3], [4, 5, 6], [7, 8, 9]])\n",
    "y = np.array([1, 0, 1])\n",
    "y_hat = np.random.rand(len(y))  # A random vector of predicted values\n",
    "\n",
    "updated_weights = logistic_regression_weight_update(w, X, y, y_hat)\n",
    "print(\"Updated weights:\", updated_weights)"
   ]
  },
  {
   "cell_type": "markdown",
   "metadata": {},
   "source": [
    "#### Formula Nr. 4: Mean Squared Error"
   ]
  },
  {
   "cell_type": "code",
   "execution_count": 5,
   "metadata": {},
   "outputs": [
    {
     "name": "stdout",
     "output_type": "stream",
     "text": [
      "Mean Squared Error: 0.308360\n"
     ]
    }
   ],
   "source": [
    "def mean_squared_error(y, y_hat):\n",
    "    n = len(y)\n",
    "    squared_diff = (y - y_hat) ** 2\n",
    "    mse = np.sum(squared_diff) / n\n",
    "    return mse\n",
    "\n",
    "y = np.array([2.37, 3.0, 1.55, 7.35, 7.77])\n",
    "y_hat = np.array([2.0, 1.9, 1.2, 7.17, 7.57])\n",
    "\n",
    "mse = mean_squared_error(y, y_hat)\n",
    "print(f\"Mean Squared Error: {mse:.6f}\")"
   ]
  },
  {
   "cell_type": "markdown",
   "metadata": {},
   "source": [
    "#### Formula Nr. 5: Binary Cross Entropy"
   ]
  },
  {
   "cell_type": "code",
   "execution_count": 6,
   "metadata": {},
   "outputs": [
    {
     "name": "stdout",
     "output_type": "stream",
     "text": [
      "Cross-Entropy Loss: 0.253000\n"
     ]
    }
   ],
   "source": [
    "def cross_entropy_loss(y, y_hat):\n",
    "    output_size = len(y)\n",
    "    loss = -np.sum(y * np.log(y_hat) + (1 - y) * np.log(1 - y_hat)) / output_size\n",
    "    return loss\n",
    "\n",
    "y = np.array([1, 0, 1, 0, 1])  # Actual class labels (1 or 0)\n",
    "y_hat = np.array([0.8, 0.2, 0.7, 0.3, 0.9])  # Predicted probabilities\n",
    "\n",
    "ce_loss = cross_entropy_loss(y, y_hat)\n",
    "print(f\"Cross-Entropy Loss: {ce_loss:.6f}\")"
   ]
  }
 ],
 "metadata": {
  "kernelspec": {
   "display_name": "Python 3",
   "language": "python",
   "name": "python3"
  },
  "language_info": {
   "codemirror_mode": {
    "name": "ipython",
    "version": 3
   },
   "file_extension": ".py",
   "mimetype": "text/x-python",
   "name": "python",
   "nbconvert_exporter": "python",
   "pygments_lexer": "ipython3",
   "version": "3.11.4"
  }
 },
 "nbformat": 4,
 "nbformat_minor": 2
}
